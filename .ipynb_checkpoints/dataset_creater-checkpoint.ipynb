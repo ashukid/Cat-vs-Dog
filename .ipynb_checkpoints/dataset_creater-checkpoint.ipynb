{
 "cells": [
  {
   "cell_type": "code",
   "execution_count": 4,
   "metadata": {},
   "outputs": [],
   "source": [
    "import os\n",
    "\n",
    "directory = ['dataset','dataset/cat','dataset/dog']\n",
    "\n",
    "for d in directory:\n",
    "    try:\n",
    "        os.makedirs(os.path.join(os.getcwd(),d))\n",
    "    except OSError as e:\n",
    "        print(e)"
   ]
  },
  {
   "cell_type": "code",
   "execution_count": 10,
   "metadata": {},
   "outputs": [],
   "source": [
    "import shutil\n",
    "\n",
    "images = os.listdir(os.path.join(os.getcwd(),\"train\"))\n",
    "csrc = os.path.join(os.getcwd(),\"train\")\n",
    "cdest = os.path.join(os.getcwd(),\"dataset\")\n",
    "for image in images:\n",
    "    src = csrc + \"/\" + image\n",
    "    if image.lower().endswith(('jpg','jpeg','png')):\n",
    "        name_slice = image.split(\".\")\n",
    "        if(name_slice[0]==\"cat\"): # cat image\n",
    "            dest = cdest + \"/cat\"\n",
    "        else:\n",
    "            dest = cdest + \"/dog\"\n",
    "        shutil.copy2(src,dest)            "
   ]
  },
  {
   "cell_type": "code",
   "execution_count": null,
   "metadata": {},
   "outputs": [],
   "source": []
  }
 ],
 "metadata": {
  "kernelspec": {
   "display_name": "Python 3",
   "language": "python",
   "name": "python3"
  },
  "language_info": {
   "codemirror_mode": {
    "name": "ipython",
    "version": 3
   },
   "file_extension": ".py",
   "mimetype": "text/x-python",
   "name": "python",
   "nbconvert_exporter": "python",
   "pygments_lexer": "ipython3",
   "version": "3.6.5"
  }
 },
 "nbformat": 4,
 "nbformat_minor": 2
}
