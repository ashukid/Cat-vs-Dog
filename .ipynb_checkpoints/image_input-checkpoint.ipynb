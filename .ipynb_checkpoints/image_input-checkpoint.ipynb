{
 "cells": [
  {
   "cell_type": "code",
   "execution_count": 5,
   "metadata": {},
   "outputs": [],
   "source": [
    "# read image directory\n",
    "# list images\n",
    "# take imgaes as input\n",
    "# convert them to numpy arrays\n",
    "# build a training dataset like that\n",
    "\n",
    "# DONE"
   ]
  },
  {
   "cell_type": "code",
   "execution_count": 7,
   "metadata": {},
   "outputs": [],
   "source": [
    "import os\n",
    "import matplotlib.pyplot as plt\n",
    "import glob\n",
    "import cv2\n",
    "import numpy as np\n",
    "\n",
    "directory = os.path.join(os.getcwd(),\"train\") # path for main dataset directory\n",
    "classes = os.listdir(directory) # all the image directory with directory name as class_label\n",
    "\n",
    "\n",
    "img = []\n",
    "lbl = []\n",
    "lbl_map = {}\n",
    "lbl_count = 0\n",
    "\n",
    "# enumerating through all class directories\n",
    "for cls in classes:\n",
    "    \n",
    "    # listing the class directories\n",
    "    cpath = os.path.join(directory,cls)\n",
    "    if(os.path.isdir(cpath)):\n",
    "        \n",
    "        # creating a dictionary for label - class map\n",
    "        lbl_map.setdefault(lbl_count,cls)\n",
    "        # enumerating all the images in the directory\n",
    "        images = os.listdir(cpath)\n",
    "        \n",
    "        # iterating over the images and saving as numpy array\n",
    "        for i in images:\n",
    "            if(i.lower().endswith(('jpg','png','jpeg'))):\n",
    "                class_name = i.split('.')[0]\n",
    "                im = cv2.imread(os.path.join(cpath,i),3)\n",
    "                im = cv2.resize(im,(128,128))\n",
    "                if im is None:\n",
    "                    print(\"Pathname is wrong\")\n",
    "                else:\n",
    "                    img.append(im)\n",
    "                lbl.append(lbl_count)\n",
    "    \n",
    "        # moving to next class\n",
    "        lbl_count+=1\n",
    "    \n",
    "    \n",
    "img = np.array(img)\n",
    "lbl = np.array(lbl) "
   ]
  },
  {
   "cell_type": "code",
   "execution_count": 8,
   "metadata": {},
   "outputs": [
    {
     "name": "stdout",
     "output_type": "stream",
     "text": [
      "(25000, 128, 128, 3)\n",
      "(25000,)\n"
     ]
    }
   ],
   "source": [
    "print(img.shape)\n",
    "print(lbl.shape)"
   ]
  },
  {
   "cell_type": "code",
   "execution_count": 9,
   "metadata": {},
   "outputs": [],
   "source": [
    "np.save('xtrain_3.npy',img)\n",
    "np.save('ytrain_3.npy',lbl)"
   ]
  },
  {
   "cell_type": "code",
   "execution_count": 10,
   "metadata": {},
   "outputs": [
    {
     "name": "stdout",
     "output_type": "stream",
     "text": [
      "{0: 'cat', 1: 'dog'}\n"
     ]
    }
   ],
   "source": [
    "import pickle\n",
    "with open('lbl_map.txt','wb') as file:\n",
    "    pickle.dump(lbl_map,file)\n",
    "print(lbl_map)"
   ]
  },
  {
   "cell_type": "markdown",
   "metadata": {},
   "source": [
    "### <------ that's it ------->"
   ]
  }
 ],
 "metadata": {
  "kernelspec": {
   "display_name": "Python 3",
   "language": "python",
   "name": "python3"
  },
  "language_info": {
   "codemirror_mode": {
    "name": "ipython",
    "version": 3
   },
   "file_extension": ".py",
   "mimetype": "text/x-python",
   "name": "python",
   "nbconvert_exporter": "python",
   "pygments_lexer": "ipython3",
   "version": "3.5.2"
  }
 },
 "nbformat": 4,
 "nbformat_minor": 2
}
