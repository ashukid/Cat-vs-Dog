{
 "cells": [
  {
   "cell_type": "code",
   "execution_count": 13,
   "metadata": {},
   "outputs": [],
   "source": [
    "import os\n",
    "import shutil\n",
    "path = \"train\"\n",
    "\n",
    "maindir = os.path.join(os.getcwd(),path)\n",
    "targetdir = os.path.join(os.getcwd(),\"experiment/\")\n",
    "\n",
    "for directory in os.listdir(maindir):\n",
    "    curdir = os.path.join(maindir,directory)\n",
    "    if(os.path.isdir(curdir)):\n",
    "        \n",
    "        images = os.listdir(curdir)\n",
    "        image_count = 500\n",
    "        cur_count = 0\n",
    "        for image in images:\n",
    "            if(image.lower().endswith(('jpg','png','jpeg'))):\n",
    "                im_name = image.lower().split(\".\")[0]\n",
    "                shutil.copy2(os.path.join(curdir,image),os.path.join(targetdir,im_name))\n",
    "                cur_count += 1\n",
    "                if(cur_count == image_count):\n",
    "                    break\n",
    "                "
   ]
  },
  {
   "cell_type": "code",
   "execution_count": 3,
   "metadata": {},
   "outputs": [],
   "source": [
    "import os\n",
    "import shutil"
   ]
  },
  {
   "cell_type": "code",
   "execution_count": 8,
   "metadata": {},
   "outputs": [],
   "source": [
    "maindir = os.listdir(os.path.join(os.getcwd(),path))\n",
    "targetdir = os.path.join(os.getcwd(),\"experiment/\")"
   ]
  },
  {
   "cell_type": "code",
   "execution_count": 9,
   "metadata": {},
   "outputs": [
    {
     "data": {
      "text/plain": [
       "['cat', 'dog', '.DS_Store']"
      ]
     },
     "execution_count": 9,
     "metadata": {},
     "output_type": "execute_result"
    }
   ],
   "source": [
    "maindir"
   ]
  },
  {
   "cell_type": "code",
   "execution_count": null,
   "metadata": {},
   "outputs": [],
   "source": []
  }
 ],
 "metadata": {
  "kernelspec": {
   "display_name": "Python 3",
   "language": "python",
   "name": "python3"
  },
  "language_info": {
   "codemirror_mode": {
    "name": "ipython",
    "version": 3
   },
   "file_extension": ".py",
   "mimetype": "text/x-python",
   "name": "python",
   "nbconvert_exporter": "python",
   "pygments_lexer": "ipython3",
   "version": "3.5.2"
  }
 },
 "nbformat": 4,
 "nbformat_minor": 2
}
